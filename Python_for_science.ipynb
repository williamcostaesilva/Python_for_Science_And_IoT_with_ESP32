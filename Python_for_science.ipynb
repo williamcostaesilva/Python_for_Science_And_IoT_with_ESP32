{
  "nbformat": 4,
  "nbformat_minor": 0,
  "metadata": {
    "colab": {
      "private_outputs": true,
      "provenance": [],
      "collapsed_sections": [],
      "authorship_tag": "ABX9TyOMqTt8O5GkRUWOrjpYNG8d",
      "include_colab_link": true
    },
    "kernelspec": {
      "name": "python3",
      "display_name": "Python 3"
    },
    "language_info": {
      "name": "python"
    }
  },
  "cells": [
    {
      "cell_type": "markdown",
      "metadata": {
        "id": "view-in-github",
        "colab_type": "text"
      },
      "source": [
        "<a href=\"https://colab.research.google.com/github/williamcostaesilva/Python_for_Science_And_IoT_with_ESP32/blob/main/Python_for_science.ipynb\" target=\"_parent\"><img src=\"https://colab.research.google.com/assets/colab-badge.svg\" alt=\"Open In Colab\"/></a>"
      ]
    },
    {
      "cell_type": "markdown",
      "source": [
        "![PYTHON-LOGO-FUNDO-PRETO.jfif](data:image/jpeg;base64,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)\n",
        "\n",
        "# Universidade Federal do Amazonas\n",
        "## Projeto SAMSUNG-SUPER 2022 \n",
        "#### Departamento de Engenharia de Produção\n",
        "##### Curso: xxxxxxxxxxxxxxxxxxxxxxxx\n",
        "###### Docente Responsável: William Costa"
      ],
      "metadata": {
        "id": "bT1v5X9QJ7i5"
      }
    },
    {
      "cell_type": "code",
      "execution_count": null,
      "metadata": {
        "id": "E8JloNVc39HG"
      },
      "outputs": [],
      "source": []
    },
    {
      "cell_type": "code",
      "source": [],
      "metadata": {
        "id": "X1ZA87rb4Gv8"
      },
      "execution_count": null,
      "outputs": []
    },
    {
      "cell_type": "code",
      "source": [],
      "metadata": {
        "id": "_YUOxsdg458N"
      },
      "execution_count": null,
      "outputs": []
    }
  ]
}